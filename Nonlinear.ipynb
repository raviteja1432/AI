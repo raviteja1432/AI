{
  "nbformat": 4,
  "nbformat_minor": 0,
  "metadata": {
    "colab": {
      "name": "Nonlinear.ipynb",
      "provenance": [],
      "collapsed_sections": [],
      "authorship_tag": "ABX9TyMhwZVseXJEqRJlGX0q4rTB",
      "include_colab_link": true
    },
    "kernelspec": {
      "name": "python3",
      "display_name": "Python 3"
    },
    "language_info": {
      "name": "python"
    }
  },
  "cells": [
    {
      "cell_type": "markdown",
      "metadata": {
        "id": "view-in-github",
        "colab_type": "text"
      },
      "source": [
        "<a href=\"https://colab.research.google.com/github/raviteja1432/AI/blob/main/Nonlinear.ipynb\" target=\"_parent\"><img src=\"https://colab.research.google.com/assets/colab-badge.svg\" alt=\"Open In Colab\"/></a>"
      ]
    },
    {
      "cell_type": "code",
      "metadata": {
        "id": "ntkIeNETWIEO",
        "colab": {
          "base_uri": "https://localhost:8080/"
        },
        "outputId": "afb913a5-8e18-4960-9d68-19239b68e0aa"
      },
      "source": [
        "#non linear optimal solution for x^4+3x^3+10\n",
        "\n",
        "x_0=2\n",
        "eta=0.1\n",
        "eps=0\n",
        "del_x=1\n",
        "max_iters=2\n",
        "iters=0\n",
        "actuals=0\n",
        "x=0\n",
        "def deriv(x):\n",
        "    x_deriv=4*(x)*(x)*(x)+6*(x)\n",
        "    return x_deriv\n",
        "def actual(x_0):\n",
        "    x= (x_0)*(x_0)*(x_0)*(x_0)+3*(x_0)*(x_0)+10\n",
        "    return x\n",
        "while abs(del_x)>eps and iters<max_iters:\n",
        "  prev_x=x_0\n",
        "  del_x=-eta*deriv(prev_x)\n",
        "  x_0=x_0+del_x\n",
        "  iters=iters+1\n",
        "  print (\"iteration\",iters,\"\\nX value is\", x_0)\n",
        "print (\"The local minimum occurs at \",x_0)\n",
        "actuals=x_0\n",
        "x=actual(actuals)\n",
        "print (\"the optimal solution\",x)"
      ],
      "execution_count": null,
      "outputs": [
        {
          "output_type": "stream",
          "name": "stdout",
          "text": [
            "iteration 1 \n",
            "X value is -2.4000000000000004\n",
            "iteration 2 \n",
            "X value is 4.569600000000003\n",
            "The local minimum occurs at  4.569600000000003\n",
            "the optimal solution 508.6700901495353\n"
          ]
        }
      ]
    }
  ]
}