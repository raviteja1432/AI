{
  "nbformat": 4,
  "nbformat_minor": 0,
  "metadata": {
    "colab": {
      "provenance": [],
      "mount_file_id": "1Iey0qvXZWImaJHwgc1FsXx-FWPpxuMmX",
      "authorship_tag": "ABX9TyNHALwivmC8b/8qcRAmct5h",
      "include_colab_link": true
    },
    "kernelspec": {
      "name": "python3",
      "display_name": "Python 3"
    },
    "language_info": {
      "name": "python"
    }
  },
  "cells": [
    {
      "cell_type": "markdown",
      "metadata": {
        "id": "view-in-github",
        "colab_type": "text"
      },
      "source": [
        "<a href=\"https://colab.research.google.com/github/raviteja1432/AI/blob/main/chronickidneyusingANNCNN.ipynb\" target=\"_parent\"><img src=\"https://colab.research.google.com/assets/colab-badge.svg\" alt=\"Open In Colab\"/></a>"
      ]
    },
    {
      "cell_type": "code",
      "execution_count": 20,
      "metadata": {
        "id": "ndO5wVSeBWi0"
      },
      "outputs": [],
      "source": [
        "import glob\n",
        "import tensorflow as tf\n",
        "from tensorflow import keras\n",
        "from tensorflow.keras import layers\n",
        "from tensorflow.keras import optimizers\n",
        "from tensorflow.keras.models import Sequential\n",
        "from tensorflow.keras.layers import Dense\n",
        "import numpy as np\n",
        "import pandas as pd\n",
        "from sklearn.model_selection import train_test_split\n",
        "from sklearn.preprocessing import LabelEncoder, MinMaxScaler\n",
        "import matplotlib.pyplot as plt\n",
        "import keras as k\n",
        "import seaborn as sns\n",
        "from sklearn.linear_model import LogisticRegression\n",
        "from sklearn.metrics import accuracy_score, confusion_matrix, classification_report\n",
        "from keras.layers import Dropout"
      ]
    },
    {
      "cell_type": "code",
      "source": [
        "data= pd.read_csv('/content/drive/MyDrive/majorcnnimages/kidney_disease.csv')"
      ],
      "metadata": {
        "id": "FNe4F7i8Btjp"
      },
      "execution_count": 2,
      "outputs": []
    },
    {
      "cell_type": "code",
      "source": [
        "data.columns"
      ],
      "metadata": {
        "colab": {
          "base_uri": "https://localhost:8080/"
        },
        "id": "V1evRd6ZB94l",
        "outputId": "aa6044c5-2992-41c9-c95b-53b3b1d5f2ce"
      },
      "execution_count": 3,
      "outputs": [
        {
          "output_type": "execute_result",
          "data": {
            "text/plain": [
              "Index(['id', 'age', 'bp', 'sg', 'al', 'su', 'rbc', 'pc', 'pcc', 'ba', 'bgr',\n",
              "       'bu', 'sc', 'sod', 'pot', 'hemo', 'pcv', 'wc', 'rc', 'htn', 'dm', 'cad',\n",
              "       'appet', 'pe', 'ane', 'classification'],\n",
              "      dtype='object')"
            ]
          },
          "metadata": {},
          "execution_count": 3
        }
      ]
    },
    {
      "cell_type": "code",
      "source": [
        "print(data)"
      ],
      "metadata": {
        "colab": {
          "base_uri": "https://localhost:8080/"
        },
        "id": "SJIOEvkXCBkA",
        "outputId": "194a685a-66c5-498e-8e59-93b94a5ca816"
      },
      "execution_count": 4,
      "outputs": [
        {
          "output_type": "stream",
          "name": "stdout",
          "text": [
            "      id   age    bp     sg   al   su     rbc        pc         pcc  \\\n",
            "0      0  48.0  80.0  1.020  1.0  0.0     NaN    normal  notpresent   \n",
            "1      1   7.0  50.0  1.020  4.0  0.0     NaN    normal  notpresent   \n",
            "2      2  62.0  80.0  1.010  2.0  3.0  normal    normal  notpresent   \n",
            "3      3  48.0  70.0  1.005  4.0  0.0  normal  abnormal     present   \n",
            "4      4  51.0  80.0  1.010  2.0  0.0  normal    normal  notpresent   \n",
            "..   ...   ...   ...    ...  ...  ...     ...       ...         ...   \n",
            "395  395  55.0  80.0  1.020  0.0  0.0  normal    normal  notpresent   \n",
            "396  396  42.0  70.0  1.025  0.0  0.0  normal    normal  notpresent   \n",
            "397  397  12.0  80.0  1.020  0.0  0.0  normal    normal  notpresent   \n",
            "398  398  17.0  60.0  1.025  0.0  0.0  normal    normal  notpresent   \n",
            "399  399  58.0  80.0  1.025  0.0  0.0  normal    normal  notpresent   \n",
            "\n",
            "             ba  ...  pcv    wc   rc  htn   dm  cad appet   pe  ane  \\\n",
            "0    notpresent  ...   44  7800  5.2  yes  yes   no  good   no   no   \n",
            "1    notpresent  ...   38  6000  NaN   no   no   no  good   no   no   \n",
            "2    notpresent  ...   31  7500  NaN   no  yes   no  poor   no  yes   \n",
            "3    notpresent  ...   32  6700  3.9  yes   no   no  poor  yes  yes   \n",
            "4    notpresent  ...   35  7300  4.6   no   no   no  good   no   no   \n",
            "..          ...  ...  ...   ...  ...  ...  ...  ...   ...  ...  ...   \n",
            "395  notpresent  ...   47  6700  4.9   no   no   no  good   no   no   \n",
            "396  notpresent  ...   54  7800  6.2   no   no   no  good   no   no   \n",
            "397  notpresent  ...   49  6600  5.4   no   no   no  good   no   no   \n",
            "398  notpresent  ...   51  7200  5.9   no   no   no  good   no   no   \n",
            "399  notpresent  ...   53  6800  6.1   no   no   no  good   no   no   \n",
            "\n",
            "    classification  \n",
            "0              ckd  \n",
            "1              ckd  \n",
            "2              ckd  \n",
            "3              ckd  \n",
            "4              ckd  \n",
            "..             ...  \n",
            "395         notckd  \n",
            "396         notckd  \n",
            "397         notckd  \n",
            "398         notckd  \n",
            "399         notckd  \n",
            "\n",
            "[400 rows x 26 columns]\n"
          ]
        }
      ]
    },
    {
      "cell_type": "code",
      "source": [
        "print(data.shape)\n",
        "print(data.ndim)"
      ],
      "metadata": {
        "colab": {
          "base_uri": "https://localhost:8080/"
        },
        "id": "ipa55i-CCF0W",
        "outputId": "c27b544a-2069-4a95-9603-048bbcf4dc15"
      },
      "execution_count": 5,
      "outputs": [
        {
          "output_type": "stream",
          "name": "stdout",
          "text": [
            "(400, 26)\n",
            "2\n"
          ]
        }
      ]
    },
    {
      "cell_type": "code",
      "source": [
        "print(data.describe())"
      ],
      "metadata": {
        "colab": {
          "base_uri": "https://localhost:8080/"
        },
        "id": "zMj6EapvCJxC",
        "outputId": "ae2ea95a-cf1f-419c-9925-2d2af8af247e"
      },
      "execution_count": 6,
      "outputs": [
        {
          "output_type": "stream",
          "name": "stdout",
          "text": [
            "               id         age          bp          sg          al          su  \\\n",
            "count  400.000000  391.000000  388.000000  353.000000  354.000000  351.000000   \n",
            "mean   199.500000   51.483376   76.469072    1.017408    1.016949    0.450142   \n",
            "std    115.614301   17.169714   13.683637    0.005717    1.352679    1.099191   \n",
            "min      0.000000    2.000000   50.000000    1.005000    0.000000    0.000000   \n",
            "25%     99.750000   42.000000   70.000000    1.010000    0.000000    0.000000   \n",
            "50%    199.500000   55.000000   80.000000    1.020000    0.000000    0.000000   \n",
            "75%    299.250000   64.500000   80.000000    1.020000    2.000000    0.000000   \n",
            "max    399.000000   90.000000  180.000000    1.025000    5.000000    5.000000   \n",
            "\n",
            "              bgr          bu          sc         sod         pot        hemo  \n",
            "count  356.000000  381.000000  383.000000  313.000000  312.000000  348.000000  \n",
            "mean   148.036517   57.425722    3.072454  137.528754    4.627244   12.526437  \n",
            "std     79.281714   50.503006    5.741126   10.408752    3.193904    2.912587  \n",
            "min     22.000000    1.500000    0.400000    4.500000    2.500000    3.100000  \n",
            "25%     99.000000   27.000000    0.900000  135.000000    3.800000   10.300000  \n",
            "50%    121.000000   42.000000    1.300000  138.000000    4.400000   12.650000  \n",
            "75%    163.000000   66.000000    2.800000  142.000000    4.900000   15.000000  \n",
            "max    490.000000  391.000000   76.000000  163.000000   47.000000   17.800000  \n"
          ]
        }
      ]
    },
    {
      "cell_type": "code",
      "source": [
        "sns.heatmap(data.isnull(),yticklabels = False, cmap='viridis');"
      ],
      "metadata": {
        "colab": {
          "base_uri": "https://localhost:8080/",
          "height": 288
        },
        "id": "KBoxTFHaCNVF",
        "outputId": "e8c77e82-7741-4c11-b2bc-23820f541dde"
      },
      "execution_count": 7,
      "outputs": [
        {
          "output_type": "display_data",
          "data": {
            "text/plain": [
              "<Figure size 432x288 with 2 Axes>"
            ],
            "image/png": "[encoded data removed]"
          },
          "metadata": {
            "needs_background": "light"
          }
        }
      ]
    },
    {
      "cell_type": "code",
      "source": [
        "data = data.dropna(axis = 0)"
      ],
      "metadata": {
        "id": "uTqvIXMGCQdz"
      },
      "execution_count": 8,
      "outputs": []
    },
    {
      "cell_type": "code",
      "source": [
        "print(data.shape)"
      ],
      "metadata": {
        "colab": {
          "base_uri": "https://localhost:8080/"
        },
        "id": "wePwbYEeCTsx",
        "outputId": "db30aec6-9a31-4323-d436-4f3c47c64312"
      },
      "execution_count": 9,
      "outputs": [
        {
          "output_type": "stream",
          "name": "stdout",
          "text": [
            "(158, 26)\n"
          ]
        }
      ]
    },
    {
      "cell_type": "code",
      "source": [
        "for column in data.columns:\n",
        "    if data[column].dtype == np.number:\n",
        "        continue\n",
        "    data[column] = LabelEncoder().fit_transform(data[column]) "
      ],
      "metadata": {
        "colab": {
          "base_uri": "https://localhost:8080/"
        },
        "id": "6U3-V4uICXBL",
        "outputId": "08b92839-db44-4861-9c25-81dfdaa8e722"
      },
      "execution_count": 10,
      "outputs": [
        {
          "output_type": "stream",
          "name": "stderr",
          "text": [
            "<ipython-input-10-bee7a5f43d56>:2: DeprecationWarning: Converting `np.inexact` or `np.floating` to a dtype is deprecated. The current result is `float64` which is not strictly correct.\n",
            "  if data[column].dtype == np.number:\n"
          ]
        }
      ]
    },
    {
      "cell_type": "code",
      "source": [
        "print(data.shape)\n",
        "print(data.head())"
      ],
      "metadata": {
        "colab": {
          "base_uri": "https://localhost:8080/"
        },
        "id": "3WEi4TlaCrhN",
        "outputId": "637d6d08-9422-4830-d2dd-cceec37af781"
      },
      "execution_count": 11,
      "outputs": [
        {
          "output_type": "stream",
          "name": "stdout",
          "text": [
            "(158, 26)\n",
            "    id   age    bp     sg   al   su  rbc  pc  pcc  ba  ...  pcv  wc  rc  htn  \\\n",
            "3    0  48.0  70.0  1.005  4.0  0.0    1   0    1   0  ...   11  42  14    1   \n",
            "9    1  53.0  90.0  1.020  2.0  0.0    0   0    1   0  ...    8  11  12    1   \n",
            "11   2  63.0  70.0  1.010  3.0  0.0    0   0    1   0  ...   11  25  13    1   \n",
            "14   3  68.0  80.0  1.010  3.0  2.0    1   0    1   1  ...    0   8   2    1   \n",
            "20   4  61.0  80.0  1.015  2.0  0.0    0   0    0   0  ...    4  63   7    1   \n",
            "\n",
            "    dm  cad  appet  pe  ane  classification  \n",
            "3    0    0      1   1    1               0  \n",
            "9    1    0      1   0    1               0  \n",
            "11   1    0      1   1    0               0  \n",
            "14   1    1      1   1    0               0  \n",
            "20   1    1      1   1    1               0  \n",
            "\n",
            "[5 rows x 26 columns]\n"
          ]
        }
      ]
    },
    {
      "cell_type": "code",
      "source": [
        "print(data.describe())"
      ],
      "metadata": {
        "colab": {
          "base_uri": "https://localhost:8080/"
        },
        "id": "o0jVxsrRCuFe",
        "outputId": "61107bc3-6d5a-4999-dcec-506aec3ef327"
      },
      "execution_count": 12,
      "outputs": [
        {
          "output_type": "stream",
          "name": "stdout",
          "text": [
            "               id         age          bp          sg          al          su  \\\n",
            "count  158.000000  158.000000  158.000000  158.000000  158.000000  158.000000   \n",
            "mean    78.500000   49.563291   74.050633    1.019873    0.797468    0.253165   \n",
            "std     45.754781   15.512244   11.175381    0.005499    1.413130    0.813397   \n",
            "min      0.000000    6.000000   50.000000    1.005000    0.000000    0.000000   \n",
            "25%     39.250000   39.250000   60.000000    1.020000    0.000000    0.000000   \n",
            "50%     78.500000   50.500000   80.000000    1.020000    0.000000    0.000000   \n",
            "75%    117.750000   60.000000   80.000000    1.025000    1.000000    0.000000   \n",
            "max    157.000000   83.000000  110.000000    1.025000    4.000000    5.000000   \n",
            "\n",
            "              rbc          pc         pcc          ba  ...         pcv  \\\n",
            "count  158.000000  158.000000  158.000000  158.000000  ...  158.000000   \n",
            "mean     0.886076    0.816456    0.088608    0.075949  ...   20.569620   \n",
            "std      0.318729    0.388343    0.285080    0.265759  ...    8.141556   \n",
            "min      0.000000    0.000000    0.000000    0.000000  ...    0.000000   \n",
            "25%      1.000000    1.000000    0.000000    0.000000  ...   17.250000   \n",
            "50%      1.000000    1.000000    0.000000    0.000000  ...   22.000000   \n",
            "75%      1.000000    1.000000    0.000000    0.000000  ...   26.750000   \n",
            "max      1.000000    1.000000    1.000000    1.000000  ...   33.000000   \n",
            "\n",
            "               wc          rc         htn          dm         cad       appet  \\\n",
            "count  158.000000  158.000000  158.000000  158.000000  158.000000  158.000000   \n",
            "mean    38.265823   23.145570    0.215190    0.177215    0.069620    0.120253   \n",
            "std     19.787861    9.459148    0.412261    0.383065    0.255315    0.326292   \n",
            "min      0.000000    0.000000    0.000000    0.000000    0.000000    0.000000   \n",
            "25%     24.000000   19.000000    0.000000    0.000000    0.000000    0.000000   \n",
            "50%     42.000000   23.500000    0.000000    0.000000    0.000000    0.000000   \n",
            "75%     53.000000   30.000000    0.000000    0.000000    0.000000    0.000000   \n",
            "max     70.000000   40.000000    1.000000    1.000000    1.000000    1.000000   \n",
            "\n",
            "               pe         ane  classification  \n",
            "count  158.000000  158.000000      158.000000  \n",
            "mean     0.126582    0.101266        0.727848  \n",
            "std      0.333562    0.302640        0.446483  \n",
            "min      0.000000    0.000000        0.000000  \n",
            "25%      0.000000    0.000000        0.000000  \n",
            "50%      0.000000    0.000000        1.000000  \n",
            "75%      0.000000    0.000000        1.000000  \n",
            "max      1.000000    1.000000        1.000000  \n",
            "\n",
            "[8 rows x 26 columns]\n"
          ]
        }
      ]
    },
    {
      "cell_type": "code",
      "source": [
        "sns.heatmap(data.isnull(),yticklabels = False, cmap='viridis');"
      ],
      "metadata": {
        "colab": {
          "base_uri": "https://localhost:8080/",
          "height": 288
        },
        "id": "TJFLEmQoC2mb",
        "outputId": "c46a8850-8c18-4400-daff-433b56c01a34"
      },
      "execution_count": 13,
      "outputs": [
        {
          "output_type": "display_data",
          "data": {
            "text/plain": [
              "<Figure size 432x288 with 2 Axes>"
            ],
            "image/png": "[encoded data removed]"
          },
          "metadata": {
            "needs_background": "light"
          }
        }
      ]
    },
    {
      "cell_type": "code",
      "source": [
        "X = data.drop(['classification'],axis=1)\n",
        "Y = data['classification']"
      ],
      "metadata": {
        "id": "h8RvzXA4C6IH"
      },
      "execution_count": 14,
      "outputs": []
    },
    {
      "cell_type": "code",
      "source": [
        "\n",
        "X=X.drop(['age'],axis=1)"
      ],
      "metadata": {
        "id": "6GfszAc7DLZ1"
      },
      "execution_count": 15,
      "outputs": []
    },
    {
      "cell_type": "code",
      "source": [
        "X=X.drop(['id'],axis=1)"
      ],
      "metadata": {
        "id": "HIRvncOEKd1K"
      },
      "execution_count": 16,
      "outputs": []
    },
    {
      "cell_type": "code",
      "source": [
        "x_scaler = MinMaxScaler()\n",
        "x_scaler.fit(X)\n",
        "column_names = X.columns\n",
        "X[column_names] = x_scaler.transform(X)"
      ],
      "metadata": {
        "id": "0Nw4SbWlEPk7"
      },
      "execution_count": 17,
      "outputs": []
    },
    {
      "cell_type": "code",
      "source": [
        "print(X)"
      ],
      "metadata": {
        "colab": {
          "base_uri": "https://localhost:8080/"
        },
        "id": "V7sBb74gEUjT",
        "outputId": "90cd447c-1fe3-4a40-e774-6483b37ab41c"
      },
      "execution_count": 18,
      "outputs": [
        {
          "output_type": "stream",
          "name": "stdout",
          "text": [
            "           bp    sg    al   su  rbc   pc  pcc   ba       bgr        bu  ...  \\\n",
            "3    0.333333  0.00  1.00  0.0  1.0  0.0  1.0  0.0  0.111905  0.153846  ...   \n",
            "9    0.666667  0.75  0.50  0.0  0.0  0.0  1.0  0.0  0.000000  0.324415  ...   \n",
            "11   0.333333  0.25  0.75  0.0  0.0  0.0  1.0  0.0  0.738095  0.167224  ...   \n",
            "14   0.500000  0.25  0.75  0.4  1.0  0.0  1.0  1.0  0.207143  0.267559  ...   \n",
            "20   0.500000  0.50  0.50  0.0  0.0  0.0  0.0  0.0  0.245238  0.461538  ...   \n",
            "..        ...   ...   ...  ...  ...  ...  ...  ...       ...       ...  ...   \n",
            "395  0.500000  0.75  0.00  0.0  1.0  1.0  0.0  0.0  0.166667  0.130435  ...   \n",
            "396  0.333333  1.00  0.00  0.0  1.0  1.0  0.0  0.0  0.011905  0.070234  ...   \n",
            "397  0.500000  0.75  0.00  0.0  1.0  1.0  0.0  0.0  0.071429  0.053512  ...   \n",
            "398  0.166667  1.00  0.00  0.0  1.0  1.0  0.0  0.0  0.104762  0.133779  ...   \n",
            "399  0.500000  1.00  0.00  0.0  1.0  1.0  0.0  0.0  0.145238  0.026756  ...   \n",
            "\n",
            "         hemo       pcv        wc     rc  htn   dm  cad  appet   pe  ane  \n",
            "3    0.551020  0.333333  0.600000  0.350  1.0  0.0  0.0    1.0  1.0  1.0  \n",
            "9    0.435374  0.242424  0.157143  0.300  1.0  1.0  0.0    1.0  0.0  1.0  \n",
            "11   0.523810  0.333333  0.357143  0.325  1.0  1.0  0.0    1.0  1.0  0.0  \n",
            "14   0.170068  0.000000  0.114286  0.050  1.0  1.0  1.0    1.0  1.0  0.0  \n",
            "20   0.312925  0.121212  0.900000  0.175  1.0  1.0  1.0    1.0  1.0  1.0  \n",
            "..        ...       ...       ...    ...  ...  ...  ...    ...  ...  ...  \n",
            "395  0.857143  0.757576  0.600000  0.575  0.0  0.0  0.0    0.0  0.0  0.0  \n",
            "396  0.911565  0.969697  0.742857  0.900  0.0  0.0  0.0    0.0  0.0  0.0  \n",
            "397  0.863946  0.818182  0.585714  0.700  0.0  0.0  0.0    0.0  0.0  0.0  \n",
            "398  0.755102  0.878788  0.671429  0.825  0.0  0.0  0.0    0.0  0.0  0.0  \n",
            "399  0.863946  0.939394  0.614286  0.875  0.0  0.0  0.0    0.0  0.0  0.0  \n",
            "\n",
            "[158 rows x 23 columns]\n"
          ]
        }
      ]
    },
    {
      "cell_type": "code",
      "source": [
        "X_train, X_test, Y_train, Y_test = train_test_split(X,Y, test_size = 0.2 ,shuffle = True)"
      ],
      "metadata": {
        "id": "zZuNVGpDEa7I"
      },
      "execution_count": 19,
      "outputs": []
    },
    {
      "cell_type": "code",
      "source": [
        "model = Sequential()\n",
        "\n",
        "#first layer\n",
        "model.add(Dense(15,input_dim= len(X.columns),kernel_initializer= k.initializers.random_normal(seed= 13),activation= 'relu'))\n",
        "model.add(Dropout(rate=0.25))\n",
        "model.add(Dense(16,activation= 'relu'))\n",
        "model.add(Dense(32,activation='relu'))\n",
        "model.add(Dropout(rate=0.25))\n",
        "model.add(Dense(64,activation='relu'))\n",
        "model.add(Dropout(rate=0.25))\n",
        "model.add(Dense (1, activation = 'sigmoid'))\n",
        "model.summary()"
      ],
      "metadata": {
        "id": "HtsuSvmXEkOq",
        "colab": {
          "base_uri": "https://localhost:8080/"
        },
        "outputId": "9312f45e-349b-46e5-82ac-93471e14e171"
      },
      "execution_count": 22,
      "outputs": [
        {
          "output_type": "stream",
          "name": "stdout",
          "text": [
            "Model: \"sequential_1\"\n",
            "_________________________________________________________________\n",
            " Layer (type)                Output Shape              Param #   \n",
            "=================================================================\n",
            " dense_5 (Dense)             (None, 15)                360       \n",
            "                                                                 \n",
            " dropout_3 (Dropout)         (None, 15)                0         \n",
            "                                                                 \n",
            " dense_6 (Dense)             (None, 16)                256       \n",
            "                                                                 \n",
            " dense_7 (Dense)             (None, 32)                544       \n",
            "                                                                 \n",
            " dropout_4 (Dropout)         (None, 32)                0         \n",
            "                                                                 \n",
            " dense_8 (Dense)             (None, 64)                2112      \n",
            "                                                                 \n",
            " dropout_5 (Dropout)         (None, 64)                0         \n",
            "                                                                 \n",
            " dense_9 (Dense)             (None, 1)                 65        \n",
            "                                                                 \n",
            "=================================================================\n",
            "Total params: 3,337\n",
            "Trainable params: 3,337\n",
            "Non-trainable params: 0\n",
            "_________________________________________________________________\n"
          ]
        }
      ]
    },
    {
      "cell_type": "code",
      "source": [
        "model.compile(loss = 'binary_crossentropy', optimizer = 'adam', metrics = ['accuracy'])"
      ],
      "metadata": {
        "id": "I_PMLeOwE0rk"
      },
      "execution_count": 23,
      "outputs": []
    },
    {
      "cell_type": "code",
      "source": [
        "history = model.fit(X_train, Y_train, validation_data= (X_test, Y_test), batch_size=32,epochs=15,verbose=1)"
      ],
      "metadata": {
        "colab": {
          "base_uri": "https://localhost:8080/"
        },
        "id": "w9bmAK4KE9Hu",
        "outputId": "d687db9a-4adb-43f2-e243-8d5dd985c1c9"
      },
      "execution_count": 25,
      "outputs": [
        {
          "output_type": "stream",
          "name": "stdout",
          "text": [
            "Epoch 1/15\n",
            "4/4 [==============================] - 1s 48ms/step - loss: 0.5080 - accuracy: 0.7381 - val_loss: 0.5029 - val_accuracy: 0.6875\n",
            "Epoch 2/15\n",
            "4/4 [==============================] - 0s 16ms/step - loss: 0.4677 - accuracy: 0.7460 - val_loss: 0.4573 - val_accuracy: 0.6875\n",
            "Epoch 3/15\n",
            "4/4 [==============================] - 0s 17ms/step - loss: 0.4343 - accuracy: 0.7540 - val_loss: 0.4134 - val_accuracy: 0.6875\n",
            "Epoch 4/15\n",
            "4/4 [==============================] - 0s 16ms/step - loss: 0.3940 - accuracy: 0.7937 - val_loss: 0.3721 - val_accuracy: 0.6875\n",
            "Epoch 5/15\n",
            "4/4 [==============================] - 0s 18ms/step - loss: 0.3407 - accuracy: 0.8333 - val_loss: 0.3317 - val_accuracy: 0.7188\n",
            "Epoch 6/15\n",
            "4/4 [==============================] - 0s 17ms/step - loss: 0.3218 - accuracy: 0.8175 - val_loss: 0.2897 - val_accuracy: 0.8125\n",
            "Epoch 7/15\n",
            "4/4 [==============================] - 0s 17ms/step - loss: 0.2911 - accuracy: 0.8730 - val_loss: 0.2491 - val_accuracy: 0.9062\n",
            "Epoch 8/15\n",
            "4/4 [==============================] - 0s 20ms/step - loss: 0.2618 - accuracy: 0.9048 - val_loss: 0.2133 - val_accuracy: 0.9688\n",
            "Epoch 9/15\n",
            "4/4 [==============================] - 0s 26ms/step - loss: 0.2154 - accuracy: 0.9127 - val_loss: 0.1804 - val_accuracy: 1.0000\n",
            "Epoch 10/15\n",
            "4/4 [==============================] - 0s 19ms/step - loss: 0.2059 - accuracy: 0.9444 - val_loss: 0.1492 - val_accuracy: 1.0000\n",
            "Epoch 11/15\n",
            "4/4 [==============================] - 0s 23ms/step - loss: 0.1746 - accuracy: 0.9603 - val_loss: 0.1213 - val_accuracy: 1.0000\n",
            "Epoch 12/15\n",
            "4/4 [==============================] - 0s 19ms/step - loss: 0.1602 - accuracy: 0.9683 - val_loss: 0.0968 - val_accuracy: 1.0000\n",
            "Epoch 13/15\n",
            "4/4 [==============================] - 0s 19ms/step - loss: 0.1216 - accuracy: 0.9762 - val_loss: 0.0749 - val_accuracy: 1.0000\n",
            "Epoch 14/15\n",
            "4/4 [==============================] - 0s 25ms/step - loss: 0.1242 - accuracy: 0.9762 - val_loss: 0.0576 - val_accuracy: 1.0000\n",
            "Epoch 15/15\n",
            "4/4 [==============================] - 0s 24ms/step - loss: 0.0827 - accuracy: 0.9841 - val_loss: 0.0437 - val_accuracy: 1.0000\n"
          ]
        }
      ]
    },
    {
      "cell_type": "code",
      "source": [
        "X_train.shape[1]"
      ],
      "metadata": {
        "colab": {
          "base_uri": "https://localhost:8080/"
        },
        "id": "gGL4PD0eLfyf",
        "outputId": "667fd312-4e71-486b-9ac4-53c82aacd68f"
      },
      "execution_count": 26,
      "outputs": [
        {
          "output_type": "execute_result",
          "data": {
            "text/plain": [
              "23"
            ]
          },
          "metadata": {},
          "execution_count": 26
        }
      ]
    },
    {
      "cell_type": "code",
      "source": [
        "h=history.history\n",
        "h.keys()"
      ],
      "metadata": {
        "colab": {
          "base_uri": "https://localhost:8080/"
        },
        "id": "rjDsC59Ix0xy",
        "outputId": "04b26262-faf2-48fa-e927-6cef60b1af65"
      },
      "execution_count": 31,
      "outputs": [
        {
          "output_type": "execute_result",
          "data": {
            "text/plain": [
              "dict_keys(['loss', 'accuracy', 'val_loss', 'val_accuracy'])"
            ]
          },
          "metadata": {},
          "execution_count": 31
        }
      ]
    },
    {
      "cell_type": "code",
      "source": [
        "model.save('ckd.model');"
      ],
      "metadata": {
        "id": "W04B-yiSFal4"
      },
      "execution_count": null,
      "outputs": []
    },
    {
      "cell_type": "code",
      "source": [
        "model.save(\"paperANN.h5\")"
      ],
      "metadata": {
        "id": "oGS8Y8KlGHlZ"
      },
      "execution_count": 27,
      "outputs": []
    },
    {
      "cell_type": "code",
      "source": [
        "import matplotlib.pyplot as plt\n",
        "plt.plot(h['accuracy'], c='red')\n",
        "plt.plot(h['val_accuracy'])\n",
        "plt.title(\"acc vs val-acc\")\n",
        "plt.show()"
      ],
      "metadata": {
        "colab": {
          "base_uri": "https://localhost:8080/",
          "height": 281
        },
        "id": "bohsHoGFxvVK",
        "outputId": "27d7669e-fd4a-46d7-ce58-b67474e45119"
      },
      "execution_count": 32,
      "outputs": [
        {
          "output_type": "display_data",
          "data": {
            "text/plain": [
              "<Figure size 432x288 with 1 Axes>"
            ],
            "image/png": "[encoded data removed]"
          },
          "metadata": {
            "needs_background": "light"
          }
        }
      ]
    },
    {
      "cell_type": "code",
      "source": [
        "import matplotlib.pyplot as plt\n",
        "plt.plot(h['loss'], c='red')\n",
        "plt.plot(h['val_loss'])\n",
        "plt.title(\"loss vs val-loss\")\n",
        "plt.show()"
      ],
      "metadata": {
        "colab": {
          "base_uri": "https://localhost:8080/",
          "height": 281
        },
        "id": "QZyvQGpPyMtM",
        "outputId": "de0591f6-a642-43b8-9147-6a58cca01953"
      },
      "execution_count": 33,
      "outputs": [
        {
          "output_type": "display_data",
          "data": {
            "text/plain": [
              "<Figure size 432x288 with 1 Axes>"
            ],
            "image/png": "[encoded data removed]"
          },
          "metadata": {
            "needs_background": "light"
          }
        }
      ]
    },
    {
      "cell_type": "code",
      "source": [
        "print(\"shape of training data: \",X_train.shape)\n",
        "print(\"shape of test data: \",X_test.shape)"
      ],
      "metadata": {
        "colab": {
          "base_uri": "https://localhost:8080/"
        },
        "id": "tzLAruX0FtH-",
        "outputId": "738a5eb5-0dff-484d-9cb3-5d4a7f655517"
      },
      "execution_count": 34,
      "outputs": [
        {
          "output_type": "stream",
          "name": "stdout",
          "text": [
            "shape of training data:  (126, 23)\n",
            "shape of test data:  (32, 23)\n"
          ]
        }
      ]
    },
    {
      "cell_type": "code",
      "source": [
        "pred = model.predict(X_test)\n",
        "pred = [1 if y>=0.5 else 0 for y in pred]\n",
        "\n",
        "print('Original:  {0}'.format(\",\".join(str(x) for x in Y_test)))\n",
        "print('Predicted: {0}'.format(\",\".join(str(x) for x in pred)))"
      ],
      "metadata": {
        "colab": {
          "base_uri": "https://localhost:8080/"
        },
        "id": "lWIgBXPzFyJx",
        "outputId": "5c46703c-477e-41eb-ac42-3bb193e83f73"
      },
      "execution_count": 35,
      "outputs": [
        {
          "output_type": "stream",
          "name": "stdout",
          "text": [
            "1/1 [==============================] - 0s 99ms/step\n",
            "Original:  0,0,1,1,0,1,1,1,0,1,0,0,1,0,1,1,1,1,1,1,0,0,1,1,1,1,1,0,1,1,1,1\n",
            "Predicted: 0,0,1,1,0,1,1,1,0,1,0,0,1,0,1,1,1,1,1,1,0,0,1,1,1,1,1,0,1,1,1,1\n"
          ]
        }
      ]
    },
    {
      "cell_type": "code",
      "source": [
        "print(X_test)"
      ],
      "metadata": {
        "colab": {
          "base_uri": "https://localhost:8080/"
        },
        "id": "uIgf4yUAT-Y8",
        "outputId": "0d2a52f7-4970-42c6-f01c-9cba6c739b62"
      },
      "execution_count": 36,
      "outputs": [
        {
          "output_type": "stream",
          "name": "stdout",
          "text": [
            "           bp    sg    al   su  rbc   pc  pcc   ba       bgr        bu  ...  \\\n",
            "76   0.500000  0.00  1.00  0.0  0.0  0.0  0.0  1.0  0.150000  0.431438  ...   \n",
            "212  0.333333  0.50  0.75  0.8  1.0  1.0  0.0  0.0  0.435714  0.468227  ...   \n",
            "252  0.500000  1.00  0.00  0.0  1.0  1.0  0.0  0.0  0.028571  0.130435  ...   \n",
            "355  0.166667  0.75  0.00  0.0  1.0  1.0  0.0  0.0  0.059524  0.046823  ...   \n",
            "48   0.333333  0.00  0.00  0.0  1.0  1.0  0.0  0.0  0.000000  0.073579  ...   \n",
            "369  0.333333  0.75  0.00  0.0  1.0  1.0  0.0  0.0  0.088095  0.127090  ...   \n",
            "376  0.333333  1.00  0.00  0.0  1.0  1.0  0.0  0.0  0.042857  0.020067  ...   \n",
            "270  0.500000  1.00  0.00  0.0  1.0  1.0  0.0  0.0  0.097619  0.080268  ...   \n",
            "210  0.833333  0.50  1.00  0.4  1.0  1.0  0.0  0.0  0.440476  0.408027  ...   \n",
            "371  0.166667  1.00  0.00  0.0  1.0  1.0  0.0  0.0  0.021429  0.133779  ...   \n",
            "171  0.333333  0.75  0.75  0.0  1.0  1.0  0.0  0.0  0.076190  0.167224  ...   \n",
            "71   0.166667  0.25  0.25  0.0  1.0  1.0  0.0  0.0  0.221429  0.274247  ...   \n",
            "304  0.500000  1.00  0.00  0.0  1.0  1.0  0.0  0.0  0.138095  0.093645  ...   \n",
            "58   0.500000  0.75  0.50  0.0  0.0  0.0  0.0  0.0  0.435714  0.441472  ...   \n",
            "361  0.500000  0.75  0.00  0.0  1.0  1.0  0.0  0.0  0.000000  0.020067  ...   \n",
            "267  0.500000  1.00  0.00  0.0  1.0  1.0  0.0  0.0  0.123810  0.076923  ...   \n",
            "331  0.333333  1.00  0.00  0.0  1.0  1.0  0.0  0.0  0.142857  0.096990  ...   \n",
            "399  0.500000  1.00  0.00  0.0  1.0  1.0  0.0  0.0  0.145238  0.026756  ...   \n",
            "318  0.333333  1.00  0.00  0.0  1.0  1.0  0.0  0.0  0.119048  0.063545  ...   \n",
            "301  0.166667  1.00  0.00  0.0  1.0  1.0  0.0  0.0  0.061905  0.076923  ...   \n",
            "22   0.500000  1.00  1.00  0.0  1.0  0.0  0.0  0.0  0.059524  0.511706  ...   \n",
            "127  0.166667  0.50  1.00  0.0  1.0  1.0  0.0  0.0  0.114286  0.384615  ...   \n",
            "379  0.500000  1.00  0.00  0.0  1.0  1.0  0.0  0.0  0.019048  0.117057  ...   \n",
            "296  0.333333  0.75  0.00  0.0  1.0  1.0  0.0  0.0  0.130952  0.093645  ...   \n",
            "265  0.500000  0.75  0.00  0.0  1.0  1.0  0.0  0.0  0.064286  0.100334  ...   \n",
            "279  0.333333  1.00  0.00  0.0  1.0  1.0  0.0  0.0  0.166667  0.043478  ...   \n",
            "277  0.166667  1.00  0.00  0.0  1.0  1.0  0.0  0.0  0.126190  0.120401  ...   \n",
            "190  0.166667  0.25  1.00  0.0  0.0  0.0  0.0  1.0  0.057143  0.190635  ...   \n",
            "323  0.500000  1.00  0.00  0.0  1.0  1.0  0.0  0.0  0.142857  0.066890  ...   \n",
            "285  0.333333  0.75  0.00  0.0  1.0  1.0  0.0  0.0  0.057143  0.030100  ...   \n",
            "388  0.500000  0.75  0.00  0.0  1.0  1.0  0.0  0.0  0.057143  0.016722  ...   \n",
            "380  0.166667  0.75  0.00  0.0  1.0  1.0  0.0  0.0  0.102381  0.043478  ...   \n",
            "\n",
            "         hemo       pcv        wc     rc  htn   dm  cad  appet   pe  ane  \n",
            "76   0.489796  0.454545  0.000000  0.375  0.0  1.0  0.0    0.0  1.0  0.0  \n",
            "212  0.530612  0.303030  0.857143  0.225  1.0  1.0  0.0    1.0  1.0  0.0  \n",
            "252  0.870748  0.727273  0.885714  0.525  0.0  0.0  0.0    0.0  0.0  0.0  \n",
            "355  0.809524  0.909091  0.542857  0.500  0.0  0.0  0.0    0.0  0.0  0.0  \n",
            "48   0.469388  0.242424  0.285714  0.250  1.0  1.0  0.0    0.0  1.0  0.0  \n",
            "369  0.714286  0.727273  0.042857  0.550  0.0  0.0  0.0    0.0  0.0  0.0  \n",
            "376  0.904762  0.939394  0.885714  0.650  0.0  0.0  0.0    0.0  0.0  0.0  \n",
            "270  0.761905  0.575758  0.671429  0.600  0.0  0.0  0.0    0.0  0.0  0.0  \n",
            "210  0.285714  0.030303  0.985714  0.350  1.0  1.0  1.0    0.0  0.0  1.0  \n",
            "371  0.986395  0.878788  0.571429  0.600  0.0  0.0  0.0    0.0  0.0  0.0  \n",
            "171  0.380952  0.181818  0.200000  0.150  1.0  0.0  0.0    1.0  0.0  1.0  \n",
            "71   0.455782  0.212121  0.214286  0.175  1.0  1.0  0.0    0.0  0.0  0.0  \n",
            "304  0.680272  0.696970  0.528571  0.475  0.0  0.0  0.0    0.0  0.0  0.0  \n",
            "58   0.503401  0.363636  0.671429  0.450  1.0  1.0  1.0    0.0  0.0  0.0  \n",
            "361  0.721088  0.969697  0.442857  0.800  0.0  0.0  0.0    0.0  0.0  0.0  \n",
            "267  0.734694  0.787879  0.942857  0.550  0.0  0.0  0.0    0.0  0.0  0.0  \n",
            "331  0.707483  0.727273  0.600000  0.475  0.0  0.0  0.0    0.0  0.0  0.0  \n",
            "399  0.863946  0.939394  0.614286  0.875  0.0  0.0  0.0    0.0  0.0  0.0  \n",
            "318  0.972789  0.909091  0.642857  0.675  0.0  0.0  0.0    0.0  0.0  0.0  \n",
            "301  0.938776  0.575758  0.671429  0.600  0.0  0.0  0.0    0.0  0.0  0.0  \n",
            "22   0.455782  0.333333  0.628571  0.225  1.0  0.0  0.0    0.0  0.0  1.0  \n",
            "127  0.564626  0.424242  0.228571  0.450  1.0  1.0  0.0    1.0  1.0  0.0  \n",
            "379  0.884354  0.848485  0.442857  0.775  0.0  0.0  0.0    0.0  0.0  0.0  \n",
            "296  0.931973  0.575758  0.542857  0.825  0.0  0.0  0.0    0.0  0.0  0.0  \n",
            "265  0.755102  0.787879  0.071429  0.600  0.0  0.0  0.0    0.0  0.0  0.0  \n",
            "279  0.897959  0.787879  0.500000  0.750  0.0  0.0  0.0    0.0  0.0  0.0  \n",
            "277  0.857143  0.848485  0.542857  0.550  0.0  0.0  0.0    0.0  0.0  0.0  \n",
            "190  0.462585  0.272727  0.271429  0.550  0.0  0.0  0.0    1.0  0.0  0.0  \n",
            "323  0.870748  0.696970  0.742857  0.475  0.0  0.0  0.0    0.0  0.0  0.0  \n",
            "285  0.877551  0.575758  0.428571  0.825  0.0  0.0  0.0    0.0  0.0  0.0  \n",
            "388  0.843537  0.727273  0.942857  0.950  0.0  0.0  0.0    0.0  0.0  0.0  \n",
            "380  0.829932  0.969697  0.571429  0.575  0.0  0.0  0.0    0.0  0.0  0.0  \n",
            "\n",
            "[32 rows x 23 columns]\n"
          ]
        }
      ]
    },
    {
      "cell_type": "code",
      "source": [
        "print(Y_test)"
      ],
      "metadata": {
        "colab": {
          "base_uri": "https://localhost:8080/"
        },
        "id": "mYEk-sSLUH9Y",
        "outputId": "70f689ec-9ea1-443a-d543-5b81770e8678"
      },
      "execution_count": 37,
      "outputs": [
        {
          "output_type": "stream",
          "name": "stdout",
          "text": [
            "76     0\n",
            "212    0\n",
            "252    1\n",
            "355    1\n",
            "48     0\n",
            "369    1\n",
            "376    1\n",
            "270    1\n",
            "210    0\n",
            "371    1\n",
            "171    0\n",
            "71     0\n",
            "304    1\n",
            "58     0\n",
            "361    1\n",
            "267    1\n",
            "331    1\n",
            "399    1\n",
            "318    1\n",
            "301    1\n",
            "22     0\n",
            "127    0\n",
            "379    1\n",
            "296    1\n",
            "265    1\n",
            "279    1\n",
            "277    1\n",
            "190    0\n",
            "323    1\n",
            "285    1\n",
            "388    1\n",
            "380    1\n",
            "Name: classification, dtype: int64\n"
          ]
        }
      ]
    },
    {
      "cell_type": "code",
      "source": [],
      "metadata": {
        "id": "iI2nW5R_F1LD"
      },
      "execution_count": null,
      "outputs": []
    }
  ]
}