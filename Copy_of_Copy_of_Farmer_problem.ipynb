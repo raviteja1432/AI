{
  "nbformat": 4,
  "nbformat_minor": 0,
  "metadata": {
    "colab": {
      "name": "Copy of Copy of Farmer problem.ipynb",
      "provenance": [],
      "authorship_tag": "ABX9TyOs2EB/pUi0zIBnQacz/F1N",
      "include_colab_link": true
    },
    "kernelspec": {
      "name": "python3",
      "display_name": "Python 3"
    },
    "language_info": {
      "name": "python"
    }
  },
  "cells": [
    {
      "cell_type": "markdown",
      "metadata": {
        "id": "view-in-github",
        "colab_type": "text"
      },
      "source": [
        "<a href=\"https://colab.research.google.com/github/raviteja1432/AI/blob/main/Copy_of_Copy_of_Farmer_problem.ipynb\" target=\"_parent\"><img src=\"https://colab.research.google.com/assets/colab-badge.svg\" alt=\"Open In Colab\"/></a>"
      ]
    },
    {
      "cell_type": "code",
      "metadata": {
        "colab": {
          "base_uri": "https://localhost:8080/"
        },
        "id": "0BFgoJ_Ky1FA",
        "outputId": "2e909986-1153-49c6-fcbd-a9d18f95bb0a"
      },
      "source": [
        " \n",
        "from scipy.optimize import linprog\n",
        "obj=[-50,-120]\n",
        "a=[[10,30],[7000,200],[1,1]]\n",
        "b=[1200,700000,110]\n",
        "bound=[(0,float('inf')),(0,float('inf'))]\n",
        "opt=linprog(c=obj,A_ub=a,b_ub=b,A_eq=None,b_eq=None,bounds=bound, method=\"simplex\")\n",
        "print(\"optimal solution:\",(round(opt.x[0])), (round (opt.x[1])))\n",
        "print(\"optimal value:rs\",50*round(opt.x[0])+120*round (opt.x[1]))"
      ],
      "execution_count": null,
      "outputs": [
        {
          "output_type": "stream",
          "text": [
            "optimal solution: 100 7\n",
            "optimal value:rs 5840\n"
          ],
          "name": "stdout"
        }
      ]
    }
  ]
}